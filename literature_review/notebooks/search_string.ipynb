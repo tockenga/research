{
 "cells": [
  {
   "cell_type": "code",
   "execution_count": 1,
   "metadata": {},
   "outputs": [],
   "source": [
    "def append(field, elements, operator='OR'):\n",
    "    result = \"\"\n",
    "    last_index = len(elements) - 1\n",
    "\n",
    "    for index, element in enumerate(elements):\n",
    "        if index != last_index:\n",
    "            result += f'({field} {element}) {operator} '\n",
    "        else:\n",
    "            result += f'({field} {element})'\n",
    "\n",
    "    return result\n",
    "\n",
    "def construct_query(db, queries, operator='AND'):\n",
    "    result = ''\n",
    "    last_index = len(queries) - 1\n",
    "    for index, query in enumerate(queries):\n",
    "        sub_query = []\n",
    "        for field, elements in query.items():\n",
    "            sub_query.append(append(db[field], elements))\n",
    "        if index != last_index:\n",
    "            result += f'({\" OR \".join(sub_query)}) {operator} '\n",
    "        else:\n",
    "            result += f'({\" OR \".join(sub_query)})'\n",
    "    return result"
   ]
  },
  {
   "cell_type": "code",
   "execution_count": 2,
   "metadata": {},
   "outputs": [],
   "source": [
    "ieee = {'title': '\"Document Title\":', 'abstract': '\"Abstract\":', 'keywords': '\"Author Keywords\":'}\n",
    "acm = {'title': 'Title:', 'abstract': 'Abstract:', 'keywords': ''}\n",
    "ebsco = {'title': 'TI', 'abstract': 'AB', 'keywords': 'SU'}"
   ]
  },
  {
   "attachments": {},
   "cell_type": "markdown",
   "metadata": {},
   "source": [
    "## search terms\n",
    "- put them into coherent groups\n",
    "- terms within groups will be connected with an OR operator\n",
    "- groups will be connected with an AND operator"
   ]
  },
  {
   "cell_type": "code",
   "execution_count": 41,
   "metadata": {},
   "outputs": [],
   "source": [
    "search_terms = [['cryptocurrency', 'ethereum', 'bitcoin'], ['returns'], ['prediction', 'predict', 'predicting', 'forecast']]\n",
    "\n",
    "def generate_queries(search_terms):\n",
    "    queries = []\n",
    "    for term in search_terms:\n",
    "        query = {'title': term, 'abstract': term, 'keywords': term}\n",
    "        queries.append(query)\n",
    "    return queries\n",
    "\n",
    "queries = generate_queries(search_terms)"
   ]
  },
  {
   "attachments": {},
   "cell_type": "markdown",
   "metadata": {},
   "source": [
    "## IEEEE\n",
    "There is a maximum of 25 search terms per search clause."
   ]
  },
  {
   "cell_type": "code",
   "execution_count": 42,
   "metadata": {},
   "outputs": [
    {
     "name": "stdout",
     "output_type": "stream",
     "text": [
      "https://ieeexplore.ieee.org/search/advanced/command\n",
      "((\"Document Title\": cryptocurrency) OR (\"Document Title\": ethereum) OR (\"Document Title\": bitcoin) OR (\"Abstract\": cryptocurrency) OR (\"Abstract\": ethereum) OR (\"Abstract\": bitcoin) OR (\"Author Keywords\": cryptocurrency) OR (\"Author Keywords\": ethereum) OR (\"Author Keywords\": bitcoin)) AND ((\"Document Title\": returns) OR (\"Abstract\": returns) OR (\"Author Keywords\": returns)) AND ((\"Document Title\": prediction) OR (\"Document Title\": predict) OR (\"Document Title\": predicting) OR (\"Document Title\": forecast) OR (\"Abstract\": prediction) OR (\"Abstract\": predict) OR (\"Abstract\": predicting) OR (\"Abstract\": forecast) OR (\"Author Keywords\": prediction) OR (\"Author Keywords\": predict) OR (\"Author Keywords\": predicting) OR (\"Author Keywords\": forecast))\n"
     ]
    }
   ],
   "source": [
    "print('https://ieeexplore.ieee.org/search/advanced/command')\n",
    "print(construct_query(ieee, queries))"
   ]
  },
  {
   "attachments": {},
   "cell_type": "markdown",
   "metadata": {},
   "source": [
    "## ACM"
   ]
  },
  {
   "cell_type": "code",
   "execution_count": 43,
   "metadata": {},
   "outputs": [
    {
     "name": "stdout",
     "output_type": "stream",
     "text": [
      "https://dl.acm.org/search/advanced\n",
      "Choose \"Author Keyword\" in the \"Search Within\" dropdown menu and insert the following string:\n",
      "((Title: cryptocurrency) OR (Title: ethereum) OR (Title: bitcoin) OR (Abstract: cryptocurrency) OR (Abstract: ethereum) OR (Abstract: bitcoin) OR (cryptocurrency) OR (ethereum) OR (bitcoin)) AND ((Title: returns) OR (Abstract: returns) OR (returns)) AND ((Title: prediction) OR (Title: predict) OR (Title: predicting) OR (Title: forecast) OR (Abstract: prediction) OR (Abstract: predict) OR (Abstract: predicting) OR (Abstract: forecast) OR (prediction) OR (predict) OR (predicting) OR (forecast))\n"
     ]
    }
   ],
   "source": [
    "print('https://dl.acm.org/search/advanced')\n",
    "print('Choose \"Author Keyword\" in the \"Search Within\" dropdown menu and insert the following string:')\n",
    "print(construct_query(acm, queries).replace('( ', '('))"
   ]
  },
  {
   "attachments": {},
   "cell_type": "markdown",
   "metadata": {},
   "source": [
    "## ScienceDirect\n",
    "provides title, abstract, keywords search field"
   ]
  },
  {
   "cell_type": "code",
   "execution_count": 39,
   "metadata": {
    "vscode": {
     "languageId": "powershell"
    }
   },
   "outputs": [
    {
     "name": "stdout",
     "output_type": "stream",
     "text": [
      "https://www.sciencedirect.com/search\n",
      "Insert in \"Title, abstract or author-specified keywords\"\n",
      "(bitcoin OR cryptocurrency OR ethereum) AND (returns) AND (predict OR forecast OR prediction OR predicting)\n"
     ]
    }
   ],
   "source": [
    "def construct_string(queries):\n",
    "    result = []\n",
    "    for query in queries:\n",
    "        # Using set to eliminate duplicates and list to convert it back to list\n",
    "        titles = list(set(query['title']))\n",
    "        # Joining the title with ' OR ' and enclosing in parentheses\n",
    "        result.append(f\"({' OR '.join(titles)})\")\n",
    "    # Joining the result with ' AND '\n",
    "    return ' AND '.join(result)\n",
    "\n",
    "print('https://www.sciencedirect.com/search')\n",
    "print('Insert in \"Title, abstract or author-specified keywords\"')\n",
    "print(construct_string(queries))"
   ]
  },
  {
   "attachments": {},
   "cell_type": "markdown",
   "metadata": {
    "vscode": {
     "languageId": "powershell"
    }
   },
   "source": [
    "## EBSCO"
   ]
  },
  {
   "cell_type": "code",
   "execution_count": 40,
   "metadata": {
    "vscode": {
     "languageId": "powershell"
    }
   },
   "outputs": [
    {
     "name": "stdout",
     "output_type": "stream",
     "text": [
      "https://web.s.ebscohost.com/\n",
      "((TI cryptocurrency) OR (TI ethereum) OR (TI bitcoin) OR (AB cryptocurrency) OR (AB ethereum) OR (AB bitcoin) OR (SU cryptocurrency) OR (SU ethereum) OR (SU bitcoin)) AND ((TI returns) OR (AB returns) OR (SU returns)) AND ((TI prediction) OR (TI predict) OR (TI predicting) OR (TI forecast) OR (AB prediction) OR (AB predict) OR (AB predicting) OR (AB forecast) OR (SU prediction) OR (SU predict) OR (SU predicting) OR (SU forecast))\n"
     ]
    }
   ],
   "source": [
    "print('https://web.s.ebscohost.com/')\n",
    "print(construct_query(ebsco, queries))"
   ]
  }
 ],
 "metadata": {
  "kernelspec": {
   "display_name": "ML",
   "language": "python",
   "name": "ml"
  },
  "language_info": {
   "codemirror_mode": {
    "name": "ipython",
    "version": 3
   },
   "file_extension": ".py",
   "mimetype": "text/x-python",
   "name": "python",
   "nbconvert_exporter": "python",
   "pygments_lexer": "ipython3",
   "version": "3.9.16"
  },
  "orig_nbformat": 4
 },
 "nbformat": 4,
 "nbformat_minor": 2
}
